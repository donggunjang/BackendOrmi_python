{
 "cells": [
  {
   "attachments": {},
   "cell_type": "markdown",
   "metadata": {},
   "source": [
    "# 리스트"
   ]
  },
  {
   "attachments": {},
   "cell_type": "markdown",
   "metadata": {},
   "source": [
    "* 다차원 리스트와 built-in functions"
   ]
  },
  {
   "cell_type": "code",
   "execution_count": 3,
   "metadata": {},
   "outputs": [
    {
     "name": "stdout",
     "output_type": "stream",
     "text": [
      "<class 'list'>\n"
     ]
    },
    {
     "data": {
      "text/plain": [
       "'j'"
      ]
     },
     "execution_count": 3,
     "metadata": {},
     "output_type": "execute_result"
    }
   ],
   "source": [
    "a = list('jangdonggun')\n",
    "print(type(a))\n",
    "a[0]"
   ]
  },
  {
   "cell_type": "code",
   "execution_count": 4,
   "metadata": {},
   "outputs": [
    {
     "data": {
      "text/plain": [
       "[[1, 2, 3], [11, 22, 33], [10, 20, 30]]"
      ]
     },
     "execution_count": 4,
     "metadata": {},
     "output_type": "execute_result"
    }
   ],
   "source": [
    "a = [[1,2,3],\n",
    "    [11,22,33],\n",
    "    [10,20,30]]\n",
    "\n",
    "a"
   ]
  },
  {
   "cell_type": "code",
   "execution_count": 5,
   "metadata": {},
   "outputs": [
    {
     "data": {
      "text/plain": [
       "[10, 20, 30]"
      ]
     },
     "execution_count": 5,
     "metadata": {},
     "output_type": "execute_result"
    }
   ],
   "source": [
    "a[0]\n",
    "a[1]\n",
    "a[2]"
   ]
  },
  {
   "cell_type": "code",
   "execution_count": 9,
   "metadata": {},
   "outputs": [
    {
     "data": {
      "text/plain": [
       "30"
      ]
     },
     "execution_count": 9,
     "metadata": {},
     "output_type": "execute_result"
    }
   ],
   "source": [
    "a[0][0]\n",
    "a[1][1]\n",
    "a[2][2]"
   ]
  },
  {
   "cell_type": "code",
   "execution_count": 10,
   "metadata": {},
   "outputs": [],
   "source": [
    "a = [[[1,2], [1, 2], [1, 2]], [[10, 2], [1, 2], [1, 2]]]"
   ]
  },
  {
   "cell_type": "code",
   "execution_count": 11,
   "metadata": {},
   "outputs": [
    {
     "data": {
      "text/plain": [
       "2"
      ]
     },
     "execution_count": 11,
     "metadata": {},
     "output_type": "execute_result"
    }
   ],
   "source": [
    "a[1][1][1]"
   ]
  },
  {
   "cell_type": "code",
   "execution_count": 12,
   "metadata": {},
   "outputs": [
    {
     "data": {
      "text/plain": [
       "[1, 2, 3]"
      ]
     },
     "execution_count": 12,
     "metadata": {},
     "output_type": "execute_result"
    }
   ],
   "source": [
    "a =[[1, 2, 3],\n",
    "    [11, 22, 33],\n",
    "    [10, 20, 30]]\n",
    "\n",
    "max(a)\n",
    "min(a)\n",
    "# sum(a) Error"
   ]
  },
  {
   "cell_type": "code",
   "execution_count": 14,
   "metadata": {},
   "outputs": [
    {
     "name": "stdout",
     "output_type": "stream",
     "text": [
      "1\n",
      "2\n",
      "3\n",
      "4\n",
      "5\n",
      "6\n",
      "7\n",
      "8\n"
     ]
    }
   ],
   "source": [
    "a = [1, 2, 3 ,4, 5, 6, 7, 8]\n",
    "\n",
    "for i in a:\n",
    "    print(i)"
   ]
  },
  {
   "cell_type": "code",
   "execution_count": 20,
   "metadata": {},
   "outputs": [
    {
     "name": "stdout",
     "output_type": "stream",
     "text": [
      "[1, 2, 3]\n",
      "[11, 22, 33]\n",
      "[13, 200, 3000]\n",
      "1\n",
      "2\n",
      "3\n",
      "11\n",
      "22\n",
      "33\n",
      "13\n",
      "200\n",
      "3000\n"
     ]
    }
   ],
   "source": [
    "a = [[1, 2, 3],\n",
    "    [11, 22, 33],\n",
    "    [13, 200, 3000],]\n",
    "\n",
    "for i in a:\n",
    "    print(i)\n",
    "\n",
    "for i in a:\n",
    "    for j in i:\n",
    "        print(j)"
   ]
  },
  {
   "cell_type": "code",
   "execution_count": 27,
   "metadata": {},
   "outputs": [
    {
     "name": "stdout",
     "output_type": "stream",
     "text": [
      "[0, 2, 4, 6, 8, 10, 12, 14, 16, 18, 20, 22, 24, 26, 28, 30, 32, 34, 36, 38, 40, 42, 44, 46, 48, 50, 52, 54, 56, 58, 60, 62, 64, 66, 68, 70, 72, 74, 76, 78, 80, 82, 84, 86, 88, 90, 92, 94, 96, 98, 100]\n",
      "[1, 3, 5, 7, 9, 11, 13, 15, 17, 19, 21, 23, 25, 27, 29, 31, 33, 35, 37, 39, 41, 43, 45, 47, 49, 51, 53, 55, 57, 59, 61, 63, 65, 67, 69, 71, 73, 75, 77, 79, 81, 83, 85, 87, 89, 91, 93, 95, 97, 99]\n"
     ]
    }
   ],
   "source": [
    "# print(list(range(100)))\n",
    "print(list(range(0,101,2))) #짝수\n",
    "print(list(range(1,101,2))) #홀수"
   ]
  },
  {
   "cell_type": "code",
   "execution_count": null,
   "metadata": {},
   "outputs": [],
   "source": []
  },
  {
   "attachments": {},
   "cell_type": "markdown",
   "metadata": {},
   "source": [
    "## 연습문제"
   ]
  },
  {
   "cell_type": "code",
   "execution_count": 3,
   "metadata": {},
   "outputs": [
    {
     "name": "stdout",
     "output_type": "stream",
     "text": [
      "[[55, 11, 'sun'], [20, 30, 'hojun'], [10, 20, 'weniv!'], [1, 10, 'leehojun'], [1, 2, 'hello world']]\n",
      "[[1, 10, 'leehojun'], [1, 2, 'hello world'], [10, 20, 'weniv!'], [20, 30, 'hojun'], [55, 11, 'sun']]\n",
      "[[1, 2, 'hello world'], [1, 10, 'leehojun'], [55, 11, 'sun'], [10, 20, 'weniv!'], [20, 30, 'hojun']]\n"
     ]
    }
   ],
   "source": [
    "l = [[1, 10, 'leehojun'], \n",
    "    [20, 30, 'hojun'], \n",
    "    [10, 20, 'weniv!'], \n",
    "    [1, 2, 'hello world'], \n",
    "    [55, 11, 'sun']]\n",
    "\n",
    "# 1. 글자 수 대로 정렬\n",
    "'''\n",
    "def f(x):\n",
    "    return len(x[2])\n",
    "\n",
    "print(sorted(l, key=f, reverse=False))\n",
    "'''\n",
    "print(sorted(l, key = lambda x:len(x[2]), reverse=False))\n",
    "\n",
    "# 2. 맨 앞에 위치한 숫자대로 정렬\n",
    "print(sorted(l, key=lambda x:x[0]))\n",
    "\n",
    "# 3. 중앙에 위치한 값대로 정렬\n",
    "print(sorted(l, key=lambda x:x[1]))\n"
   ]
  },
  {
   "cell_type": "code",
   "execution_count": 4,
   "metadata": {},
   "outputs": [
    {
     "name": "stdout",
     "output_type": "stream",
     "text": [
      "[[1, 2, 13], [1, 10, 32], [10, 20, 22], [20, 30, 11], [55, 11, 44]]\n"
     ]
    }
   ],
   "source": [
    "# 4. 3개의 전체 합이 작은 순서대로 출력\n",
    "l = [[1, 10, 32], \n",
    "    [20, 30, 11], \n",
    "    [10, 20, 22], \n",
    "    [1, 2, 13], \n",
    "    [55, 11, 44]]\n",
    "\n",
    "def f4(x):\n",
    "    return x[0] + x[1] + x[2]\n",
    "\n",
    "def f5(x):\n",
    "    return sum(x)\n",
    "\n",
    "print(sorted(l, key=lambda x: sum(x)))\n"
   ]
  },
  {
   "attachments": {},
   "cell_type": "markdown",
   "metadata": {},
   "source": [
    "# 리스트 표현식 (list comprehension)"
   ]
  },
  {
   "cell_type": "code",
   "execution_count": 26,
   "metadata": {},
   "outputs": [
    {
     "data": {
      "text/plain": [
       "[3,\n",
       " 5,\n",
       " 6,\n",
       " 9,\n",
       " 10,\n",
       " 12,\n",
       " 15,\n",
       " 18,\n",
       " 20,\n",
       " 21,\n",
       " 24,\n",
       " 25,\n",
       " 27,\n",
       " 30,\n",
       " 33,\n",
       " 35,\n",
       " 36,\n",
       " 39,\n",
       " 40,\n",
       " 42,\n",
       " 45,\n",
       " 48,\n",
       " 50,\n",
       " 51,\n",
       " 54,\n",
       " 55,\n",
       " 57,\n",
       " 60,\n",
       " 63,\n",
       " 65,\n",
       " 66,\n",
       " 69,\n",
       " 70,\n",
       " 72,\n",
       " 75,\n",
       " 78,\n",
       " 80,\n",
       " 81,\n",
       " 84,\n",
       " 85,\n",
       " 87,\n",
       " 90,\n",
       " 93,\n",
       " 95,\n",
       " 96,\n",
       " 99]"
      ]
     },
     "execution_count": 26,
     "metadata": {},
     "output_type": "execute_result"
    }
   ],
   "source": [
    "a = [i for i in range(1, 100) if i % 3 == 0 or i % 5 == 0]\n",
    "a"
   ]
  },
  {
   "attachments": {},
   "cell_type": "markdown",
   "metadata": {},
   "source": [
    "# 딕셔너리\n",
    "1. 딕셔너리는 순서가 없는 자료형\n",
    "2. 키와 값으로 이뤄져 있다.\n",
    "3. 값에 변경이 가능\n",
    "4. 다른 자료형을 입력할 수 있다.\n",
    "5. 키의 중복은 허락하지 않고, 값의 중복을 허락한다."
   ]
  },
  {
   "cell_type": "code",
   "execution_count": 30,
   "metadata": {},
   "outputs": [
    {
     "data": {
      "text/plain": [
       "{'one': 1, 'two': '둘', 'three': '셋'}"
      ]
     },
     "execution_count": 30,
     "metadata": {},
     "output_type": "execute_result"
    }
   ],
   "source": [
    "d = {'one': '하나', 'two': '둘', 'three': '셋'}\n",
    "d\n",
    "d['one']\n",
    "d['one'] = 1\n",
    "d"
   ]
  },
  {
   "cell_type": "code",
   "execution_count": 31,
   "metadata": {},
   "outputs": [
    {
     "data": {
      "text/plain": [
       "dict"
      ]
     },
     "execution_count": 31,
     "metadata": {},
     "output_type": "execute_result"
    }
   ],
   "source": [
    "d = {}\n",
    "type(d)"
   ]
  },
  {
   "cell_type": "code",
   "execution_count": 32,
   "metadata": {},
   "outputs": [
    {
     "data": {
      "text/plain": [
       "set"
      ]
     },
     "execution_count": 32,
     "metadata": {},
     "output_type": "execute_result"
    }
   ],
   "source": [
    "d = {10}\n",
    "type(d)"
   ]
  },
  {
   "cell_type": "code",
   "execution_count": 35,
   "metadata": {},
   "outputs": [
    {
     "data": {
      "text/plain": [
       "{'one': '하나', 'two': '둘'}"
      ]
     },
     "execution_count": 35,
     "metadata": {},
     "output_type": "execute_result"
    }
   ],
   "source": [
    "dict([('one', '하나'), ('two', '둘')])\n"
   ]
  },
  {
   "cell_type": "code",
   "execution_count": 36,
   "metadata": {},
   "outputs": [
    {
     "data": {
      "text/plain": [
       "{'name': 'jangdonggun', 'age': 20}"
      ]
     },
     "execution_count": 36,
     "metadata": {},
     "output_type": "execute_result"
    }
   ],
   "source": [
    "dict(name='jangdonggun', age = 20)"
   ]
  },
  {
   "cell_type": "code",
   "execution_count": 38,
   "metadata": {},
   "outputs": [
    {
     "data": {
      "text/plain": [
       "[('A', '1', 'a'), ('B', '2', 'b'), ('C', '3', 'c')]"
      ]
     },
     "execution_count": 38,
     "metadata": {},
     "output_type": "execute_result"
    }
   ],
   "source": [
    "list(zip('ABC', '123','abc'))"
   ]
  },
  {
   "cell_type": "code",
   "execution_count": 39,
   "metadata": {},
   "outputs": [
    {
     "data": {
      "text/plain": [
       "{'A': '1', 'B': '2', 'C': '3'}"
      ]
     },
     "execution_count": 39,
     "metadata": {},
     "output_type": "execute_result"
    }
   ],
   "source": [
    "dict(zip('ABC', '123'))"
   ]
  },
  {
   "cell_type": "code",
   "execution_count": 42,
   "metadata": {},
   "outputs": [
    {
     "data": {
      "text/plain": [
       "True"
      ]
     },
     "execution_count": 42,
     "metadata": {},
     "output_type": "execute_result"
    }
   ],
   "source": [
    "d = {'one': '하나', 'two': '둘', 'three': '셋'}\n",
    "'하나' in d\n",
    "'one' in d"
   ]
  },
  {
   "cell_type": "code",
   "execution_count": 43,
   "metadata": {},
   "outputs": [
    {
     "name": "stdout",
     "output_type": "stream",
     "text": [
      "{'one': '하나', 'two': '둘', 'three': '셋'}\n",
      "<class 'dict'>\n"
     ]
    }
   ],
   "source": [
    "print(d)\n",
    "print(type(d))"
   ]
  },
  {
   "attachments": {},
   "cell_type": "markdown",
   "metadata": {},
   "source": [
    "# 연습문제"
   ]
  },
  {
   "cell_type": "code",
   "execution_count": 7,
   "metadata": {},
   "outputs": [
    {
     "data": {
      "text/plain": [
       "{'A': (10, 20), 'B': (20, 30), 'C': (30, 40)}"
      ]
     },
     "execution_count": 7,
     "metadata": {},
     "output_type": "execute_result"
    }
   ],
   "source": [
    "\n",
    "# 원하는 형태 {'A': [10, 20], 'B': [20, 30], 'C': [30, 40]}\n",
    "dict(zip('ABC',([10,20],[20,30],[30,40])))\n",
    "\n",
    "l = [10, 20, 30, 40]\n",
    "dict(zip('ABC', zip(l, l[1:])))"
   ]
  },
  {
   "cell_type": "code",
   "execution_count": 19,
   "metadata": {},
   "outputs": [
    {
     "name": "stdout",
     "output_type": "stream",
     "text": [
      "402\n",
      "97\n",
      "홍의 97\n",
      "원희 60\n"
     ]
    }
   ],
   "source": [
    "student_score = {\n",
    "\t\t'홍의': 97,\n",
    "\t\t'원희': 60,\n",
    "\t\t'동해': 77,\n",
    "\t\t'변수': 79,\n",
    "\t\t'창현': 89,\n",
    "}\n",
    "\n",
    "'''\n",
    "- 학생들의 **총점**을 구하는 코드를 작성\n",
    "- 학생들의 **평균 점수**를 구하는 코드를 작성\n",
    "- 점수가 가장 **높은** 학생의 이름과 그 점수를 구하는 코드를 \n",
    "- 점수가 가장 **낮은** 학생의 이름과 그 점수를 구하는 코드를\n",
    "'''\n",
    "total_s = sum(student_score.values())\n",
    "print(total_s)\n",
    "\n",
    "top_s = max(student_score.values())\n",
    "print(top_s)\n",
    "\n",
    "top_name = max(student_score, key=student_score.get)\n",
    "print(top_name, top_s)\n",
    "\n",
    "min_s = min(student_score.values())\n",
    "min_name = min(student_score, key=student_score.get)\n",
    "print(min_name,min_s)"
   ]
  },
  {
   "cell_type": "code",
   "execution_count": 20,
   "metadata": {},
   "outputs": [
    {
     "data": {
      "text/plain": [
       "['볶음밥', '라면', '치킨', '짜장면']"
      ]
     },
     "execution_count": 20,
     "metadata": {},
     "output_type": "execute_result"
    }
   ],
   "source": [
    "# 학생 7명이 같이 먹을 점심 메뉴를 고르려고 합니다. \n",
    "# 학생들의 각자 좋아하는 메뉴와 싫어하는 메뉴를 like 와 dislike 리스트에 담았습니다.\n",
    "# 학생들은 점심 메뉴를 고를 때, 한 명이라도 싫어하는 메뉴라면 고르지 않기로 했습니다. \n",
    "# 최종 후보 메뉴들의 리스트를 구하는 코드를 작성\n",
    "\n",
    "like = ['볶음밥', '라면', '국수', '파스타', '치킨', '짜장면', '국밥']\n",
    "dislike = ['국밥', '짬뽕', '찜닭', '파스타', '국수', '카레', '덮밥']\n",
    "\n",
    "def 점심(list1, list2):\n",
    "    final_menu = []\n",
    "\n",
    "    for menu in list1:\n",
    "        if menu not in list2:\n",
    "            final_menu.append(menu)\n",
    "    return final_menu\n",
    "\n",
    "점심(like,dislike)\n"
   ]
  },
  {
   "attachments": {},
   "cell_type": "markdown",
   "metadata": {},
   "source": [
    "# set\n",
    "* 순서가 없는 자료형\n",
    "* 값의 중복을 허락하지 않는다\n",
    "* 순회 가능한 자료형이다"
   ]
  },
  {
   "cell_type": "code",
   "execution_count": 44,
   "metadata": {},
   "outputs": [
    {
     "data": {
      "text/plain": [
       "{'1', '2', '3', '4', '5', '6', '7'}"
      ]
     },
     "execution_count": 44,
     "metadata": {},
     "output_type": "execute_result"
    }
   ],
   "source": [
    "s = set('123456777')\n",
    "s\n"
   ]
  },
  {
   "cell_type": "code",
   "execution_count": 47,
   "metadata": {},
   "outputs": [
    {
     "data": {
      "text/plain": [
       "{0, 1, 2, 3, 4, 5, 6, 7, 8, 9}"
      ]
     },
     "execution_count": 47,
     "metadata": {},
     "output_type": "execute_result"
    }
   ],
   "source": [
    "s = {i for i in range(10)}\n",
    "s"
   ]
  },
  {
   "attachments": {},
   "cell_type": "markdown",
   "metadata": {},
   "source": [
    "# 클래스 ***"
   ]
  },
  {
   "cell_type": "code",
   "execution_count": 52,
   "metadata": {},
   "outputs": [
    {
     "name": "stdout",
     "output_type": "stream",
     "text": [
      "100 의 스피드로 달리고 있습니다.\n",
      "200 의 스피드로 달리고 있습니다.\n",
      "<__main__.Car object at 0x7fe7010d5c90>\n",
      "<class '__main__.Car'>\n",
      "['__class__', '__delattr__', '__dict__', '__dir__', '__doc__', '__eq__', '__format__', '__ge__', '__getattribute__', '__gt__', '__hash__', '__init__', '__init_subclass__', '__le__', '__lt__', '__module__', '__ne__', '__new__', '__reduce__', '__reduce_ex__', '__repr__', '__setattr__', '__sizeof__', '__str__', '__subclasshook__', '__weakref__', 'maxpeople', 'maxspeed', 'move', 'stop']\n"
     ]
    }
   ],
   "source": [
    "class Car(object):\n",
    "    maxspeed = 300\n",
    "    maxpeople = 5\n",
    "\n",
    "    def move(self, x):\n",
    "        print(x, '의 스피드로 달리고 있습니다.')\n",
    "    \n",
    "    def stop(self):\n",
    "        print('멈췄습니다.')\n",
    "\n",
    "x60 = Car()\n",
    "x90 = Car()\n",
    "\n",
    "x60.move(100)\n",
    "x90.move(200)\n",
    "\n",
    "x90.maxpeople\n",
    "\n",
    "print(x60)\n",
    "print(type(x60))\n",
    "print(dir(x60))"
   ]
  },
  {
   "cell_type": "code",
   "execution_count": null,
   "metadata": {},
   "outputs": [],
   "source": [
    "# Django, Python Framwork에서 게시물을 생성할 때 사용\n",
    "class Notice:\n",
    "    pass\n",
    "\n",
    "# 크롤링 할 때 각각 크롤링된 데이터를 인스턴스로 생성 -> 엑셀로 변환\n",
    "class Book:\n",
    "    pass"
   ]
  },
  {
   "cell_type": "code",
   "execution_count": 54,
   "metadata": {},
   "outputs": [
    {
     "name": "stdout",
     "output_type": "stream",
     "text": [
      "볼보엑스60 100 의 스피드로 달리고 있습니다.\n",
      "볼보엑스90 200 의 스피드로 달리고 있습니다.\n"
     ]
    }
   ],
   "source": [
    "class Car(object):\n",
    "    kind = []\n",
    "    maxspeed = 300\n",
    "    maxpeople = 5\n",
    "\n",
    "    def __init__(self, 이름):\n",
    "        self.name = 이름\n",
    "\n",
    "    def move(self, x):\n",
    "        print(self.name, x, '의 스피드로 달리고 있습니다.')\n",
    "    \n",
    "    def stop(self):\n",
    "        print('멈췄습니다.')\n",
    "\n",
    "x60 = Car('볼보엑스60')\n",
    "x90 = Car('볼보엑스90')\n",
    "\n",
    "x60.move(100)\n",
    "x90.move(200)\n"
   ]
  },
  {
   "cell_type": "code",
   "execution_count": 65,
   "metadata": {},
   "outputs": [
    {
     "name": "stdout",
     "output_type": "stream",
     "text": [
      "볼보엑스60 100 의 스피드로 달리고 있습니다.\n",
      "['볼보엑스60', '볼보엑스90']\n",
      "멈췄습니다.\n",
      "볼보엑스90 200 의 스피드로 달리고 있습니다.\n",
      "['볼보엑스60', '볼보엑스90']\n",
      "멈췄습니다.\n"
     ]
    },
    {
     "data": {
      "text/plain": [
       "('hello world', '볼보엑스60', '볼보엑스90')"
      ]
     },
     "execution_count": 65,
     "metadata": {},
     "output_type": "execute_result"
    }
   ],
   "source": [
    "class Car(object):\n",
    "    kind = []\n",
    "    maxspeed = 300\n",
    "    maxpeople = 5\n",
    "\n",
    "    def __init__(self, 이름):\n",
    "        self.name = 이름\n",
    "        self.kind.append(이름)\n",
    "\n",
    "    def __add__(self, obj):\n",
    "        return 'hello world', self.name ,obj.name\n",
    "    \n",
    "    def __str__(self):\n",
    "        return self.naem\n",
    "    \n",
    "    def move(self, x):\n",
    "        print(self.name, x, '의 스피드로 달리고 있습니다.')\n",
    "        print(self.kind)\n",
    "        self.stop()\n",
    "    \n",
    "    def stop(self):\n",
    "        print('멈췄습니다.')\n",
    "\n",
    "    @staticmethod\n",
    "    def 스피드배속(현재스피드, 배속할스피드):\n",
    "        print(f'현재 {현재스피드 * 배속할스피드}의 스피드로 달리고 있습니다.')\n",
    "\n",
    "x60 = Car('볼보엑스60')\n",
    "x90 = Car('볼보엑스90')\n",
    "\n",
    "x60.move(100)\n",
    "x90.move(200)\n",
    "\n",
    "x60 + x90"
   ]
  },
  {
   "cell_type": "code",
   "execution_count": 66,
   "metadata": {},
   "outputs": [
    {
     "name": "stdout",
     "output_type": "stream",
     "text": [
      "현재 200의 스피드로 달리고 있습니다.\n"
     ]
    }
   ],
   "source": [
    "Car.스피드배속(100, 2)"
   ]
  },
  {
   "attachments": {},
   "cell_type": "markdown",
   "metadata": {},
   "source": [
    "# 상속"
   ]
  },
  {
   "cell_type": "code",
   "execution_count": 71,
   "metadata": {},
   "outputs": [
    {
     "name": "stdout",
     "output_type": "stream",
     "text": [
      "600 만큼 달릴 수 있습니다.\n",
      "10 스피드만큼 달리고 있습니다.\n"
     ]
    }
   ],
   "source": [
    "class Car(object):\n",
    "    maxspeed = 300\n",
    "    maxpeople = 5\n",
    "\n",
    "    def move(self, x):\n",
    "        print(x, '의 스피드로 달리고 있습니다.')\n",
    "    \n",
    "    def stop(self):\n",
    "        print('멈췄습니다.')\n",
    "\n",
    "class HybridCar(Car):\n",
    "    battery = 1000\n",
    "    batteryKM = 300\n",
    "\n",
    "\n",
    "class ElectricCar(HybridCar):\n",
    "    battery = 2000\n",
    "    batteryKM = 600\n",
    "    def move(self, x):\n",
    "        print(self.batteryKM, '만큼 달릴 수 있습니다.')\n",
    "        print(x, '스피드만큼 달리고 있습니다.')\n",
    "\n",
    "k5 = HybridCar()\n",
    "ev6 = ElectricCar()\n",
    "k5.maxspeed\n",
    "ev6.maxspeed\n",
    "ev6.move(10) # 메서드 오버라이딩"
   ]
  },
  {
   "attachments": {},
   "cell_type": "markdown",
   "metadata": {},
   "source": [
    "* filter"
   ]
  },
  {
   "cell_type": "code",
   "execution_count": 72,
   "metadata": {},
   "outputs": [
    {
     "data": {
      "text/plain": [
       "[6, 7, 8, 9]"
      ]
     },
     "execution_count": 72,
     "metadata": {},
     "output_type": "execute_result"
    }
   ],
   "source": [
    "def 함수(x):\n",
    "    return x > 5\n",
    "\n",
    "list(filter(함수, range(10)))"
   ]
  },
  {
   "attachments": {},
   "cell_type": "markdown",
   "metadata": {},
   "source": [
    "# lambda와 응용식"
   ]
  },
  {
   "cell_type": "code",
   "execution_count": 73,
   "metadata": {},
   "outputs": [
    {
     "name": "stdout",
     "output_type": "stream",
     "text": [
      "hello world\n"
     ]
    }
   ],
   "source": [
    "#익명함수 -> 이름이 없는 함수\n",
    "\n",
    "donggun = print\n",
    "\n",
    "donggun('hello world')"
   ]
  },
  {
   "cell_type": "code",
   "execution_count": 74,
   "metadata": {},
   "outputs": [
    {
     "data": {
      "text/plain": [
       "16"
      ]
     },
     "execution_count": 74,
     "metadata": {},
     "output_type": "execute_result"
    }
   ],
   "source": [
    "제곱 = lambda x: x**2\n",
    "제곱(4)"
   ]
  },
  {
   "cell_type": "code",
   "execution_count": 77,
   "metadata": {},
   "outputs": [
    {
     "data": {
      "text/plain": [
       "[1, 4, 9, 16]"
      ]
     },
     "execution_count": 77,
     "metadata": {},
     "output_type": "execute_result"
    }
   ],
   "source": [
    "def f(x):\n",
    "    return x ** 2\n",
    "list(map(f, [1, 2, 3, 4]))"
   ]
  },
  {
   "cell_type": "code",
   "execution_count": 78,
   "metadata": {},
   "outputs": [
    {
     "data": {
      "text/plain": [
       "[1, 4, 9, 16]"
      ]
     },
     "execution_count": 78,
     "metadata": {},
     "output_type": "execute_result"
    }
   ],
   "source": [
    "list(map(lambda x:x**2, [1, 2, 3, 4]))"
   ]
  },
  {
   "cell_type": "code",
   "execution_count": 79,
   "metadata": {},
   "outputs": [
    {
     "data": {
      "text/plain": [
       "9"
      ]
     },
     "execution_count": 79,
     "metadata": {},
     "output_type": "execute_result"
    }
   ],
   "source": [
    "(lambda x:x**2)(3)"
   ]
  },
  {
   "cell_type": "code",
   "execution_count": 80,
   "metadata": {},
   "outputs": [
    {
     "data": {
      "text/plain": [
       "[51,\n",
       " 52,\n",
       " 53,\n",
       " 54,\n",
       " 55,\n",
       " 56,\n",
       " 57,\n",
       " 58,\n",
       " 59,\n",
       " 60,\n",
       " 61,\n",
       " 62,\n",
       " 63,\n",
       " 64,\n",
       " 65,\n",
       " 66,\n",
       " 67,\n",
       " 68,\n",
       " 69,\n",
       " 70,\n",
       " 71,\n",
       " 72,\n",
       " 73,\n",
       " 74,\n",
       " 75,\n",
       " 76,\n",
       " 77,\n",
       " 78,\n",
       " 79,\n",
       " 80,\n",
       " 81,\n",
       " 82,\n",
       " 83,\n",
       " 84,\n",
       " 85,\n",
       " 86,\n",
       " 87,\n",
       " 88,\n",
       " 89,\n",
       " 90,\n",
       " 91,\n",
       " 92,\n",
       " 93,\n",
       " 94,\n",
       " 95,\n",
       " 96,\n",
       " 97,\n",
       " 98,\n",
       " 99]"
      ]
     },
     "execution_count": 80,
     "metadata": {},
     "output_type": "execute_result"
    }
   ],
   "source": [
    "list(filter(lambda x:x>50, range(100)))"
   ]
  },
  {
   "cell_type": "code",
   "execution_count": 89,
   "metadata": {},
   "outputs": [
    {
     "name": "stdout",
     "output_type": "stream",
     "text": [
      "203\n"
     ]
    }
   ],
   "source": [
    "숫자 = [1,2,3,4,5]\n",
    "승수 = [2,2,2,3,3]\n",
    "\n",
    "list(map(lambda x:x[0] ** x[1], zip(숫자, 승수)))\n",
    "\n",
    "list(filter(lambda x:x>100, list(map(lambda x:x[0] ** x[1], zip(숫자, 승수)))))\n",
    "\n",
    "print(sum(list(map(lambda x:x[0] ** x[1], zip(숫자, 승수)))))\n"
   ]
  },
  {
   "attachments": {},
   "cell_type": "markdown",
   "metadata": {},
   "source": [
    "# decorator"
   ]
  },
  {
   "cell_type": "code",
   "execution_count": 90,
   "metadata": {},
   "outputs": [
    {
     "name": "stdout",
     "output_type": "stream",
     "text": [
      "로그인 되었습니다.\n",
      "게시물을 보았습니다.\n",
      "로그아웃 되었습니다.\n"
     ]
    }
   ],
   "source": [
    "def auth(function):\n",
    "    def wrapper():\n",
    "        print('로그인 되었습니다.')\n",
    "        function()\n",
    "        print('로그아웃 되었습니다.')\n",
    "    return wrapper\n",
    "\n",
    "@auth\n",
    "def view_notice():\n",
    "    print('게시물을 보았습니다.')\n",
    "\n",
    "view_notice()"
   ]
  },
  {
   "cell_type": "code",
   "execution_count": 92,
   "metadata": {},
   "outputs": [
    {
     "name": "stdout",
     "output_type": "stream",
     "text": [
      "로그인 되었습니다.\n",
      "3 게시물을 보았습니다.\n",
      "로그아웃 되었습니다.\n"
     ]
    }
   ],
   "source": [
    "def auth(function):\n",
    "    def wrapper(게시물번호_wrapper):\n",
    "        print('로그인 되었습니다.')\n",
    "        function(게시물번호_wrapper)\n",
    "        print('로그아웃 되었습니다.')\n",
    "    return wrapper\n",
    "\n",
    "@auth\n",
    "def view_notice(게시물번호):\n",
    "    print(게시물번호,'게시물을 보았습니다.')\n",
    "\n",
    "view_notice(3)"
   ]
  }
 ],
 "metadata": {
  "kernelspec": {
   "display_name": "Python 3",
   "language": "python",
   "name": "python3"
  },
  "language_info": {
   "codemirror_mode": {
    "name": "ipython",
    "version": 3
   },
   "file_extension": ".py",
   "mimetype": "text/x-python",
   "name": "python",
   "nbconvert_exporter": "python",
   "pygments_lexer": "ipython3",
   "version": "3.7.8rc1"
  },
  "orig_nbformat": 4
 },
 "nbformat": 4,
 "nbformat_minor": 2
}
